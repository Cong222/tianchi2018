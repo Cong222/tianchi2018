{
 "cells": [
  {
   "cell_type": "code",
   "execution_count": null,
   "metadata": {
    "scrolled": true
   },
   "outputs": [
    {
     "name": "stderr",
     "output_type": "stream",
     "text": [
      "Using TensorFlow backend.\n",
      "INFO:root:total image num is 4318\n",
      "INFO:root:test data num is 863\n"
     ]
    },
    {
     "name": "stdout",
     "output_type": "stream",
     "text": [
      "[INFO] loading images...\n"
     ]
    },
    {
     "name": "stderr",
     "output_type": "stream",
     "text": [
      "INFO:root:[INFO] loading done\n"
     ]
    },
    {
     "name": "stdout",
     "output_type": "stream",
     "text": [
      "[INFO] compiling model...\n",
      "[INFO] training network...\n",
      "Epoch 1/150\n"
     ]
    }
   ],
   "source": [
    "run train.py --dataset_train ~/tianchi2018/data_new/ --model goodlenet256.model"
   ]
  },
  {
   "cell_type": "code",
   "execution_count": 1,
   "metadata": {
    "scrolled": false
   },
   "outputs": [
    {
     "name": "stderr",
     "output_type": "stream",
     "text": [
      "Using TensorFlow backend.\n"
     ]
    },
    {
     "name": "stdout",
     "output_type": "stream",
     "text": [
      "[INFO] loading network...\n"
     ]
    },
    {
     "name": "stderr",
     "output_type": "stream",
     "text": [
      "DEBUG:root:/home/chenzhicong/tianchi2018/guangdong_round1_test_a_20180916/0.jpg predict as 0, probability is 0.99999964\n",
      "DEBUG:root:/home/chenzhicong/tianchi2018/guangdong_round1_test_a_20180916/1.jpg predict as 0, probability is 0.9919593\n",
      "DEBUG:root:/home/chenzhicong/tianchi2018/guangdong_round1_test_a_20180916/2.jpg predict as 2, probability is 0.6529732\n",
      "DEBUG:root:/home/chenzhicong/tianchi2018/guangdong_round1_test_a_20180916/3.jpg predict as 0, probability is 0.9999707\n",
      "DEBUG:root:/home/chenzhicong/tianchi2018/guangdong_round1_test_a_20180916/4.jpg predict as 10, probability is 0.99999416\n",
      "DEBUG:root:/home/chenzhicong/tianchi2018/guangdong_round1_test_a_20180916/5.jpg predict as 0, probability is 0.9997787\n",
      "DEBUG:root:/home/chenzhicong/tianchi2018/guangdong_round1_test_a_20180916/6.jpg predict as 9, probability is 1.0\n",
      "DEBUG:root:/home/chenzhicong/tianchi2018/guangdong_round1_test_a_20180916/7.jpg predict as 10, probability is 0.9999913\n",
      "DEBUG:root:/home/chenzhicong/tianchi2018/guangdong_round1_test_a_20180916/8.jpg predict as 0, probability is 0.97996473\n",
      "DEBUG:root:/home/chenzhicong/tianchi2018/guangdong_round1_test_a_20180916/9.jpg predict as 3, probability is 0.9999993\n",
      "DEBUG:root:/home/chenzhicong/tianchi2018/guangdong_round1_test_a_20180916/10.jpg predict as 0, probability is 0.99999595\n",
      "DEBUG:root:/home/chenzhicong/tianchi2018/guangdong_round1_test_a_20180916/11.jpg predict as 6, probability is 1.0\n",
      "DEBUG:root:/home/chenzhicong/tianchi2018/guangdong_round1_test_a_20180916/12.jpg predict as 0, probability is 0.99987555\n",
      "DEBUG:root:/home/chenzhicong/tianchi2018/guangdong_round1_test_a_20180916/13.jpg predict as 0, probability is 0.9999697\n",
      "DEBUG:root:/home/chenzhicong/tianchi2018/guangdong_round1_test_a_20180916/14.jpg predict as 0, probability is 0.9786574\n",
      "DEBUG:root:/home/chenzhicong/tianchi2018/guangdong_round1_test_a_20180916/15.jpg predict as 7, probability is 1.0\n",
      "DEBUG:root:/home/chenzhicong/tianchi2018/guangdong_round1_test_a_20180916/16.jpg predict as 2, probability is 0.9980077\n",
      "DEBUG:root:/home/chenzhicong/tianchi2018/guangdong_round1_test_a_20180916/17.jpg predict as 0, probability is 0.81302553\n",
      "DEBUG:root:/home/chenzhicong/tianchi2018/guangdong_round1_test_a_20180916/18.jpg predict as 6, probability is 0.6735495\n",
      "DEBUG:root:/home/chenzhicong/tianchi2018/guangdong_round1_test_a_20180916/19.jpg predict as 11, probability is 0.94199723\n",
      "DEBUG:root:/home/chenzhicong/tianchi2018/guangdong_round1_test_a_20180916/20.jpg predict as 0, probability is 0.9999715\n",
      "DEBUG:root:/home/chenzhicong/tianchi2018/guangdong_round1_test_a_20180916/21.jpg predict as 11, probability is 0.99899334\n",
      "DEBUG:root:/home/chenzhicong/tianchi2018/guangdong_round1_test_a_20180916/22.jpg predict as 1, probability is 0.9955655\n",
      "DEBUG:root:/home/chenzhicong/tianchi2018/guangdong_round1_test_a_20180916/23.jpg predict as 0, probability is 1.0\n",
      "DEBUG:root:/home/chenzhicong/tianchi2018/guangdong_round1_test_a_20180916/24.jpg predict as 4, probability is 0.99987376\n",
      "DEBUG:root:/home/chenzhicong/tianchi2018/guangdong_round1_test_a_20180916/25.jpg predict as 4, probability is 0.9999486\n",
      "DEBUG:root:/home/chenzhicong/tianchi2018/guangdong_round1_test_a_20180916/26.jpg predict as 0, probability is 0.93963325\n",
      "DEBUG:root:/home/chenzhicong/tianchi2018/guangdong_round1_test_a_20180916/27.jpg predict as 5, probability is 1.0\n",
      "DEBUG:root:/home/chenzhicong/tianchi2018/guangdong_round1_test_a_20180916/28.jpg predict as 10, probability is 0.9999994\n",
      "DEBUG:root:/home/chenzhicong/tianchi2018/guangdong_round1_test_a_20180916/29.jpg predict as 5, probability is 0.99999976\n",
      "DEBUG:root:/home/chenzhicong/tianchi2018/guangdong_round1_test_a_20180916/30.jpg predict as 5, probability is 1.0\n",
      "DEBUG:root:/home/chenzhicong/tianchi2018/guangdong_round1_test_a_20180916/31.jpg predict as 11, probability is 0.59463453\n",
      "DEBUG:root:/home/chenzhicong/tianchi2018/guangdong_round1_test_a_20180916/32.jpg predict as 0, probability is 0.9999999\n",
      "DEBUG:root:/home/chenzhicong/tianchi2018/guangdong_round1_test_a_20180916/33.jpg predict as 10, probability is 0.9999925\n",
      "DEBUG:root:/home/chenzhicong/tianchi2018/guangdong_round1_test_a_20180916/34.jpg predict as 5, probability is 0.9997123\n",
      "DEBUG:root:/home/chenzhicong/tianchi2018/guangdong_round1_test_a_20180916/35.jpg predict as 10, probability is 0.9999937\n",
      "DEBUG:root:/home/chenzhicong/tianchi2018/guangdong_round1_test_a_20180916/36.jpg predict as 2, probability is 0.55372024\n",
      "DEBUG:root:/home/chenzhicong/tianchi2018/guangdong_round1_test_a_20180916/37.jpg predict as 11, probability is 0.9999558\n",
      "DEBUG:root:/home/chenzhicong/tianchi2018/guangdong_round1_test_a_20180916/38.jpg predict as 11, probability is 0.9996264\n",
      "DEBUG:root:/home/chenzhicong/tianchi2018/guangdong_round1_test_a_20180916/39.jpg predict as 11, probability is 0.44464046\n",
      "DEBUG:root:/home/chenzhicong/tianchi2018/guangdong_round1_test_a_20180916/40.jpg predict as 2, probability is 0.99779034\n",
      "DEBUG:root:/home/chenzhicong/tianchi2018/guangdong_round1_test_a_20180916/41.jpg predict as 1, probability is 0.8992453\n",
      "DEBUG:root:/home/chenzhicong/tianchi2018/guangdong_round1_test_a_20180916/42.jpg predict as 5, probability is 0.99993134\n",
      "DEBUG:root:/home/chenzhicong/tianchi2018/guangdong_round1_test_a_20180916/43.jpg predict as 0, probability is 0.99959236\n",
      "DEBUG:root:/home/chenzhicong/tianchi2018/guangdong_round1_test_a_20180916/44.jpg predict as 5, probability is 1.0\n",
      "DEBUG:root:/home/chenzhicong/tianchi2018/guangdong_round1_test_a_20180916/45.jpg predict as 2, probability is 0.41442016\n",
      "DEBUG:root:/home/chenzhicong/tianchi2018/guangdong_round1_test_a_20180916/46.jpg predict as 0, probability is 0.99999344\n",
      "DEBUG:root:/home/chenzhicong/tianchi2018/guangdong_round1_test_a_20180916/47.jpg predict as 0, probability is 0.5483621\n",
      "DEBUG:root:/home/chenzhicong/tianchi2018/guangdong_round1_test_a_20180916/48.jpg predict as 5, probability is 0.78598666\n",
      "DEBUG:root:/home/chenzhicong/tianchi2018/guangdong_round1_test_a_20180916/49.jpg predict as 10, probability is 0.999992\n",
      "DEBUG:root:/home/chenzhicong/tianchi2018/guangdong_round1_test_a_20180916/50.jpg predict as 4, probability is 0.9989736\n",
      "DEBUG:root:/home/chenzhicong/tianchi2018/guangdong_round1_test_a_20180916/51.jpg predict as 11, probability is 0.99958724\n",
      "DEBUG:root:/home/chenzhicong/tianchi2018/guangdong_round1_test_a_20180916/52.jpg predict as 5, probability is 0.9999999\n",
      "DEBUG:root:/home/chenzhicong/tianchi2018/guangdong_round1_test_a_20180916/53.jpg predict as 0, probability is 0.9999771\n",
      "DEBUG:root:/home/chenzhicong/tianchi2018/guangdong_round1_test_a_20180916/54.jpg predict as 0, probability is 0.999951\n",
      "DEBUG:root:/home/chenzhicong/tianchi2018/guangdong_round1_test_a_20180916/55.jpg predict as 0, probability is 0.9998437\n",
      "DEBUG:root:/home/chenzhicong/tianchi2018/guangdong_round1_test_a_20180916/56.jpg predict as 2, probability is 0.6941615\n",
      "DEBUG:root:/home/chenzhicong/tianchi2018/guangdong_round1_test_a_20180916/57.jpg predict as 5, probability is 0.9847072\n",
      "DEBUG:root:/home/chenzhicong/tianchi2018/guangdong_round1_test_a_20180916/58.jpg predict as 6, probability is 0.8953047\n",
      "DEBUG:root:/home/chenzhicong/tianchi2018/guangdong_round1_test_a_20180916/59.jpg predict as 10, probability is 0.99999607\n",
      "DEBUG:root:/home/chenzhicong/tianchi2018/guangdong_round1_test_a_20180916/60.jpg predict as 1, probability is 0.9991793\n",
      "DEBUG:root:/home/chenzhicong/tianchi2018/guangdong_round1_test_a_20180916/61.jpg predict as 0, probability is 0.99999976\n",
      "DEBUG:root:/home/chenzhicong/tianchi2018/guangdong_round1_test_a_20180916/62.jpg predict as 7, probability is 0.99999976\n",
      "DEBUG:root:/home/chenzhicong/tianchi2018/guangdong_round1_test_a_20180916/63.jpg predict as 7, probability is 1.0\n",
      "DEBUG:root:/home/chenzhicong/tianchi2018/guangdong_round1_test_a_20180916/64.jpg predict as 8, probability is 0.99982697\n",
      "DEBUG:root:/home/chenzhicong/tianchi2018/guangdong_round1_test_a_20180916/65.jpg predict as 10, probability is 0.9999523\n",
      "DEBUG:root:/home/chenzhicong/tianchi2018/guangdong_round1_test_a_20180916/66.jpg predict as 5, probability is 0.9999999\n",
      "DEBUG:root:/home/chenzhicong/tianchi2018/guangdong_round1_test_a_20180916/67.jpg predict as 11, probability is 0.9332996\n",
      "DEBUG:root:/home/chenzhicong/tianchi2018/guangdong_round1_test_a_20180916/68.jpg predict as 2, probability is 0.87845755\n"
     ]
    },
    {
     "name": "stderr",
     "output_type": "stream",
     "text": [
      "DEBUG:root:/home/chenzhicong/tianchi2018/guangdong_round1_test_a_20180916/69.jpg predict as 6, probability is 1.0\n",
      "DEBUG:root:/home/chenzhicong/tianchi2018/guangdong_round1_test_a_20180916/70.jpg predict as 2, probability is 0.6901828\n",
      "DEBUG:root:/home/chenzhicong/tianchi2018/guangdong_round1_test_a_20180916/71.jpg predict as 4, probability is 0.89474314\n",
      "DEBUG:root:/home/chenzhicong/tianchi2018/guangdong_round1_test_a_20180916/72.jpg predict as 0, probability is 0.9999989\n",
      "DEBUG:root:/home/chenzhicong/tianchi2018/guangdong_round1_test_a_20180916/73.jpg predict as 0, probability is 0.99986696\n",
      "DEBUG:root:/home/chenzhicong/tianchi2018/guangdong_round1_test_a_20180916/74.jpg predict as 0, probability is 0.99667954\n",
      "DEBUG:root:/home/chenzhicong/tianchi2018/guangdong_round1_test_a_20180916/75.jpg predict as 0, probability is 0.9999949\n",
      "DEBUG:root:/home/chenzhicong/tianchi2018/guangdong_round1_test_a_20180916/76.jpg predict as 5, probability is 0.9999995\n",
      "DEBUG:root:/home/chenzhicong/tianchi2018/guangdong_round1_test_a_20180916/77.jpg predict as 6, probability is 0.9531182\n",
      "DEBUG:root:/home/chenzhicong/tianchi2018/guangdong_round1_test_a_20180916/78.jpg predict as 8, probability is 0.54486257\n",
      "DEBUG:root:/home/chenzhicong/tianchi2018/guangdong_round1_test_a_20180916/79.jpg predict as 5, probability is 0.99998164\n",
      "DEBUG:root:/home/chenzhicong/tianchi2018/guangdong_round1_test_a_20180916/80.jpg predict as 0, probability is 0.9944431\n",
      "DEBUG:root:/home/chenzhicong/tianchi2018/guangdong_round1_test_a_20180916/81.jpg predict as 7, probability is 1.0\n",
      "DEBUG:root:/home/chenzhicong/tianchi2018/guangdong_round1_test_a_20180916/82.jpg predict as 5, probability is 0.99999714\n",
      "DEBUG:root:/home/chenzhicong/tianchi2018/guangdong_round1_test_a_20180916/83.jpg predict as 4, probability is 0.9999987\n",
      "DEBUG:root:/home/chenzhicong/tianchi2018/guangdong_round1_test_a_20180916/84.jpg predict as 4, probability is 0.9999695\n",
      "DEBUG:root:/home/chenzhicong/tianchi2018/guangdong_round1_test_a_20180916/85.jpg predict as 3, probability is 0.9999982\n",
      "DEBUG:root:/home/chenzhicong/tianchi2018/guangdong_round1_test_a_20180916/86.jpg predict as 5, probability is 0.9999994\n",
      "DEBUG:root:/home/chenzhicong/tianchi2018/guangdong_round1_test_a_20180916/87.jpg predict as 11, probability is 0.98426694\n",
      "DEBUG:root:/home/chenzhicong/tianchi2018/guangdong_round1_test_a_20180916/88.jpg predict as 0, probability is 0.9997434\n",
      "DEBUG:root:/home/chenzhicong/tianchi2018/guangdong_round1_test_a_20180916/89.jpg predict as 0, probability is 0.99999785\n",
      "DEBUG:root:/home/chenzhicong/tianchi2018/guangdong_round1_test_a_20180916/90.jpg predict as 3, probability is 0.99999845\n",
      "DEBUG:root:/home/chenzhicong/tianchi2018/guangdong_round1_test_a_20180916/91.jpg predict as 10, probability is 0.99999905\n",
      "DEBUG:root:/home/chenzhicong/tianchi2018/guangdong_round1_test_a_20180916/92.jpg predict as 0, probability is 0.99992776\n",
      "DEBUG:root:/home/chenzhicong/tianchi2018/guangdong_round1_test_a_20180916/93.jpg predict as 0, probability is 0.99983263\n",
      "DEBUG:root:/home/chenzhicong/tianchi2018/guangdong_round1_test_a_20180916/94.jpg predict as 0, probability is 0.99861956\n",
      "DEBUG:root:/home/chenzhicong/tianchi2018/guangdong_round1_test_a_20180916/95.jpg predict as 7, probability is 1.0\n",
      "DEBUG:root:/home/chenzhicong/tianchi2018/guangdong_round1_test_a_20180916/96.jpg predict as 0, probability is 0.9999577\n",
      "DEBUG:root:/home/chenzhicong/tianchi2018/guangdong_round1_test_a_20180916/97.jpg predict as 0, probability is 0.99980956\n",
      "DEBUG:root:/home/chenzhicong/tianchi2018/guangdong_round1_test_a_20180916/98.jpg predict as 0, probability is 0.99999535\n",
      "DEBUG:root:/home/chenzhicong/tianchi2018/guangdong_round1_test_a_20180916/99.jpg predict as 5, probability is 1.0\n",
      "DEBUG:root:/home/chenzhicong/tianchi2018/guangdong_round1_test_a_20180916/100.jpg predict as 5, probability is 0.9999999\n",
      "DEBUG:root:/home/chenzhicong/tianchi2018/guangdong_round1_test_a_20180916/101.jpg predict as 10, probability is 0.9999746\n",
      "DEBUG:root:/home/chenzhicong/tianchi2018/guangdong_round1_test_a_20180916/102.jpg predict as 10, probability is 0.9999995\n",
      "DEBUG:root:/home/chenzhicong/tianchi2018/guangdong_round1_test_a_20180916/103.jpg predict as 10, probability is 0.9999987\n",
      "DEBUG:root:/home/chenzhicong/tianchi2018/guangdong_round1_test_a_20180916/104.jpg predict as 11, probability is 0.98975104\n",
      "DEBUG:root:/home/chenzhicong/tianchi2018/guangdong_round1_test_a_20180916/105.jpg predict as 0, probability is 0.99999976\n",
      "DEBUG:root:/home/chenzhicong/tianchi2018/guangdong_round1_test_a_20180916/106.jpg predict as 5, probability is 1.0\n",
      "DEBUG:root:/home/chenzhicong/tianchi2018/guangdong_round1_test_a_20180916/107.jpg predict as 0, probability is 0.9991448\n",
      "DEBUG:root:/home/chenzhicong/tianchi2018/guangdong_round1_test_a_20180916/108.jpg predict as 3, probability is 0.99999964\n",
      "DEBUG:root:/home/chenzhicong/tianchi2018/guangdong_round1_test_a_20180916/109.jpg predict as 10, probability is 0.99892586\n",
      "DEBUG:root:/home/chenzhicong/tianchi2018/guangdong_round1_test_a_20180916/110.jpg predict as 4, probability is 0.99997544\n",
      "DEBUG:root:/home/chenzhicong/tianchi2018/guangdong_round1_test_a_20180916/111.jpg predict as 5, probability is 0.99999845\n",
      "DEBUG:root:/home/chenzhicong/tianchi2018/guangdong_round1_test_a_20180916/112.jpg predict as 0, probability is 0.99952996\n",
      "DEBUG:root:/home/chenzhicong/tianchi2018/guangdong_round1_test_a_20180916/113.jpg predict as 0, probability is 0.9999999\n",
      "DEBUG:root:/home/chenzhicong/tianchi2018/guangdong_round1_test_a_20180916/114.jpg predict as 5, probability is 0.99997044\n",
      "DEBUG:root:/home/chenzhicong/tianchi2018/guangdong_round1_test_a_20180916/115.jpg predict as 6, probability is 0.70449424\n",
      "DEBUG:root:/home/chenzhicong/tianchi2018/guangdong_round1_test_a_20180916/116.jpg predict as 1, probability is 0.975603\n",
      "DEBUG:root:/home/chenzhicong/tianchi2018/guangdong_round1_test_a_20180916/117.jpg predict as 11, probability is 0.9981401\n",
      "DEBUG:root:/home/chenzhicong/tianchi2018/guangdong_round1_test_a_20180916/118.jpg predict as 6, probability is 1.0\n",
      "DEBUG:root:/home/chenzhicong/tianchi2018/guangdong_round1_test_a_20180916/119.jpg predict as 10, probability is 0.9995633\n",
      "DEBUG:root:/home/chenzhicong/tianchi2018/guangdong_round1_test_a_20180916/120.jpg predict as 5, probability is 0.9999999\n",
      "DEBUG:root:/home/chenzhicong/tianchi2018/guangdong_round1_test_a_20180916/121.jpg predict as 4, probability is 0.99944013\n",
      "DEBUG:root:/home/chenzhicong/tianchi2018/guangdong_round1_test_a_20180916/122.jpg predict as 11, probability is 0.9800387\n",
      "DEBUG:root:/home/chenzhicong/tianchi2018/guangdong_round1_test_a_20180916/123.jpg predict as 10, probability is 0.99990666\n",
      "DEBUG:root:/home/chenzhicong/tianchi2018/guangdong_round1_test_a_20180916/124.jpg predict as 0, probability is 0.9999993\n",
      "DEBUG:root:/home/chenzhicong/tianchi2018/guangdong_round1_test_a_20180916/125.jpg predict as 5, probability is 0.9999999\n",
      "DEBUG:root:/home/chenzhicong/tianchi2018/guangdong_round1_test_a_20180916/126.jpg predict as 7, probability is 1.0\n",
      "DEBUG:root:/home/chenzhicong/tianchi2018/guangdong_round1_test_a_20180916/127.jpg predict as 4, probability is 0.9992906\n",
      "DEBUG:root:/home/chenzhicong/tianchi2018/guangdong_round1_test_a_20180916/128.jpg predict as 8, probability is 0.9999627\n",
      "DEBUG:root:/home/chenzhicong/tianchi2018/guangdong_round1_test_a_20180916/129.jpg predict as 11, probability is 0.92563695\n",
      "DEBUG:root:/home/chenzhicong/tianchi2018/guangdong_round1_test_a_20180916/130.jpg predict as 4, probability is 0.9905998\n",
      "DEBUG:root:/home/chenzhicong/tianchi2018/guangdong_round1_test_a_20180916/131.jpg predict as 0, probability is 0.9597806\n",
      "DEBUG:root:/home/chenzhicong/tianchi2018/guangdong_round1_test_a_20180916/132.jpg predict as 5, probability is 1.0\n",
      "DEBUG:root:/home/chenzhicong/tianchi2018/guangdong_round1_test_a_20180916/133.jpg predict as 10, probability is 0.9998822\n",
      "DEBUG:root:/home/chenzhicong/tianchi2018/guangdong_round1_test_a_20180916/134.jpg predict as 11, probability is 0.85304946\n",
      "DEBUG:root:/home/chenzhicong/tianchi2018/guangdong_round1_test_a_20180916/135.jpg predict as 10, probability is 0.99981505\n",
      "DEBUG:root:/home/chenzhicong/tianchi2018/guangdong_round1_test_a_20180916/136.jpg predict as 0, probability is 1.0\n",
      "DEBUG:root:/home/chenzhicong/tianchi2018/guangdong_round1_test_a_20180916/137.jpg predict as 6, probability is 0.97643095\n"
     ]
    },
    {
     "name": "stderr",
     "output_type": "stream",
     "text": [
      "DEBUG:root:/home/chenzhicong/tianchi2018/guangdong_round1_test_a_20180916/138.jpg predict as 11, probability is 0.9877763\n",
      "DEBUG:root:/home/chenzhicong/tianchi2018/guangdong_round1_test_a_20180916/139.jpg predict as 0, probability is 0.99500066\n",
      "DEBUG:root:/home/chenzhicong/tianchi2018/guangdong_round1_test_a_20180916/140.jpg predict as 5, probability is 0.99999976\n",
      "DEBUG:root:/home/chenzhicong/tianchi2018/guangdong_round1_test_a_20180916/141.jpg predict as 2, probability is 0.5917893\n",
      "DEBUG:root:/home/chenzhicong/tianchi2018/guangdong_round1_test_a_20180916/142.jpg predict as 9, probability is 0.9999999\n",
      "DEBUG:root:/home/chenzhicong/tianchi2018/guangdong_round1_test_a_20180916/143.jpg predict as 0, probability is 0.99982303\n",
      "DEBUG:root:/home/chenzhicong/tianchi2018/guangdong_round1_test_a_20180916/144.jpg predict as 5, probability is 0.99999666\n",
      "DEBUG:root:/home/chenzhicong/tianchi2018/guangdong_round1_test_a_20180916/145.jpg predict as 0, probability is 0.50229573\n",
      "DEBUG:root:/home/chenzhicong/tianchi2018/guangdong_round1_test_a_20180916/146.jpg predict as 8, probability is 0.9999995\n",
      "DEBUG:root:/home/chenzhicong/tianchi2018/guangdong_round1_test_a_20180916/147.jpg predict as 7, probability is 1.0\n",
      "DEBUG:root:/home/chenzhicong/tianchi2018/guangdong_round1_test_a_20180916/148.jpg predict as 0, probability is 0.9999764\n",
      "DEBUG:root:/home/chenzhicong/tianchi2018/guangdong_round1_test_a_20180916/149.jpg predict as 7, probability is 1.0\n",
      "DEBUG:root:/home/chenzhicong/tianchi2018/guangdong_round1_test_a_20180916/150.jpg predict as 6, probability is 1.0\n",
      "DEBUG:root:/home/chenzhicong/tianchi2018/guangdong_round1_test_a_20180916/151.jpg predict as 0, probability is 0.61888325\n",
      "DEBUG:root:/home/chenzhicong/tianchi2018/guangdong_round1_test_a_20180916/152.jpg predict as 6, probability is 0.9398454\n",
      "DEBUG:root:/home/chenzhicong/tianchi2018/guangdong_round1_test_a_20180916/153.jpg predict as 0, probability is 0.9999931\n",
      "DEBUG:root:/home/chenzhicong/tianchi2018/guangdong_round1_test_a_20180916/154.jpg predict as 0, probability is 1.0\n",
      "DEBUG:root:/home/chenzhicong/tianchi2018/guangdong_round1_test_a_20180916/155.jpg predict as 5, probability is 0.99978036\n",
      "DEBUG:root:/home/chenzhicong/tianchi2018/guangdong_round1_test_a_20180916/156.jpg predict as 6, probability is 1.0\n",
      "DEBUG:root:/home/chenzhicong/tianchi2018/guangdong_round1_test_a_20180916/157.jpg predict as 0, probability is 0.999998\n",
      "DEBUG:root:/home/chenzhicong/tianchi2018/guangdong_round1_test_a_20180916/158.jpg predict as 11, probability is 0.62233925\n",
      "DEBUG:root:/home/chenzhicong/tianchi2018/guangdong_round1_test_a_20180916/159.jpg predict as 10, probability is 0.99999905\n",
      "DEBUG:root:/home/chenzhicong/tianchi2018/guangdong_round1_test_a_20180916/160.jpg predict as 0, probability is 0.9999969\n",
      "DEBUG:root:/home/chenzhicong/tianchi2018/guangdong_round1_test_a_20180916/161.jpg predict as 10, probability is 0.92922837\n",
      "DEBUG:root:/home/chenzhicong/tianchi2018/guangdong_round1_test_a_20180916/162.jpg predict as 2, probability is 0.9999541\n",
      "DEBUG:root:/home/chenzhicong/tianchi2018/guangdong_round1_test_a_20180916/163.jpg predict as 0, probability is 0.99920267\n",
      "DEBUG:root:/home/chenzhicong/tianchi2018/guangdong_round1_test_a_20180916/164.jpg predict as 1, probability is 0.9999931\n",
      "DEBUG:root:/home/chenzhicong/tianchi2018/guangdong_round1_test_a_20180916/165.jpg predict as 0, probability is 0.9999999\n",
      "DEBUG:root:/home/chenzhicong/tianchi2018/guangdong_round1_test_a_20180916/166.jpg predict as 2, probability is 0.9997838\n",
      "DEBUG:root:/home/chenzhicong/tianchi2018/guangdong_round1_test_a_20180916/167.jpg predict as 3, probability is 0.9999988\n",
      "DEBUG:root:/home/chenzhicong/tianchi2018/guangdong_round1_test_a_20180916/168.jpg predict as 5, probability is 0.99998295\n",
      "DEBUG:root:/home/chenzhicong/tianchi2018/guangdong_round1_test_a_20180916/169.jpg predict as 4, probability is 0.9994349\n",
      "DEBUG:root:/home/chenzhicong/tianchi2018/guangdong_round1_test_a_20180916/170.jpg predict as 7, probability is 0.99985373\n",
      "DEBUG:root:/home/chenzhicong/tianchi2018/guangdong_round1_test_a_20180916/171.jpg predict as 1, probability is 0.8532828\n",
      "DEBUG:root:/home/chenzhicong/tianchi2018/guangdong_round1_test_a_20180916/172.jpg predict as 9, probability is 0.99999976\n",
      "DEBUG:root:/home/chenzhicong/tianchi2018/guangdong_round1_test_a_20180916/173.jpg predict as 2, probability is 0.9999943\n",
      "DEBUG:root:/home/chenzhicong/tianchi2018/guangdong_round1_test_a_20180916/174.jpg predict as 0, probability is 0.9999999\n",
      "DEBUG:root:/home/chenzhicong/tianchi2018/guangdong_round1_test_a_20180916/175.jpg predict as 6, probability is 0.6424613\n",
      "DEBUG:root:/home/chenzhicong/tianchi2018/guangdong_round1_test_a_20180916/176.jpg predict as 11, probability is 0.93062776\n",
      "DEBUG:root:/home/chenzhicong/tianchi2018/guangdong_round1_test_a_20180916/177.jpg predict as 0, probability is 0.9999957\n",
      "DEBUG:root:/home/chenzhicong/tianchi2018/guangdong_round1_test_a_20180916/178.jpg predict as 11, probability is 0.9993794\n",
      "DEBUG:root:/home/chenzhicong/tianchi2018/guangdong_round1_test_a_20180916/179.jpg predict as 1, probability is 0.99999964\n",
      "DEBUG:root:/home/chenzhicong/tianchi2018/guangdong_round1_test_a_20180916/180.jpg predict as 0, probability is 0.9998118\n",
      "DEBUG:root:/home/chenzhicong/tianchi2018/guangdong_round1_test_a_20180916/181.jpg predict as 7, probability is 1.0\n",
      "DEBUG:root:/home/chenzhicong/tianchi2018/guangdong_round1_test_a_20180916/182.jpg predict as 10, probability is 0.9973973\n",
      "DEBUG:root:/home/chenzhicong/tianchi2018/guangdong_round1_test_a_20180916/183.jpg predict as 0, probability is 0.99999964\n",
      "DEBUG:root:/home/chenzhicong/tianchi2018/guangdong_round1_test_a_20180916/184.jpg predict as 5, probability is 0.9999957\n",
      "DEBUG:root:/home/chenzhicong/tianchi2018/guangdong_round1_test_a_20180916/185.jpg predict as 8, probability is 0.8703033\n",
      "DEBUG:root:/home/chenzhicong/tianchi2018/guangdong_round1_test_a_20180916/186.jpg predict as 5, probability is 0.99999905\n",
      "DEBUG:root:/home/chenzhicong/tianchi2018/guangdong_round1_test_a_20180916/187.jpg predict as 5, probability is 1.0\n",
      "DEBUG:root:/home/chenzhicong/tianchi2018/guangdong_round1_test_a_20180916/188.jpg predict as 5, probability is 0.9999646\n",
      "DEBUG:root:/home/chenzhicong/tianchi2018/guangdong_round1_test_a_20180916/189.jpg predict as 0, probability is 0.99999976\n",
      "DEBUG:root:/home/chenzhicong/tianchi2018/guangdong_round1_test_a_20180916/190.jpg predict as 1, probability is 0.60912806\n",
      "DEBUG:root:/home/chenzhicong/tianchi2018/guangdong_round1_test_a_20180916/191.jpg predict as 6, probability is 1.0\n",
      "DEBUG:root:/home/chenzhicong/tianchi2018/guangdong_round1_test_a_20180916/192.jpg predict as 2, probability is 0.846389\n",
      "DEBUG:root:/home/chenzhicong/tianchi2018/guangdong_round1_test_a_20180916/193.jpg predict as 3, probability is 0.99996495\n",
      "DEBUG:root:/home/chenzhicong/tianchi2018/guangdong_round1_test_a_20180916/194.jpg predict as 1, probability is 0.99992967\n",
      "DEBUG:root:/home/chenzhicong/tianchi2018/guangdong_round1_test_a_20180916/195.jpg predict as 0, probability is 0.99999774\n",
      "DEBUG:root:/home/chenzhicong/tianchi2018/guangdong_round1_test_a_20180916/196.jpg predict as 4, probability is 0.9346394\n",
      "DEBUG:root:/home/chenzhicong/tianchi2018/guangdong_round1_test_a_20180916/197.jpg predict as 6, probability is 0.9954136\n",
      "DEBUG:root:/home/chenzhicong/tianchi2018/guangdong_round1_test_a_20180916/198.jpg predict as 0, probability is 0.9999809\n",
      "DEBUG:root:/home/chenzhicong/tianchi2018/guangdong_round1_test_a_20180916/199.jpg predict as 2, probability is 0.98048717\n",
      "DEBUG:root:/home/chenzhicong/tianchi2018/guangdong_round1_test_a_20180916/200.jpg predict as 0, probability is 0.9999896\n",
      "DEBUG:root:/home/chenzhicong/tianchi2018/guangdong_round1_test_a_20180916/201.jpg predict as 6, probability is 0.86964685\n",
      "DEBUG:root:/home/chenzhicong/tianchi2018/guangdong_round1_test_a_20180916/202.jpg predict as 7, probability is 0.9999795\n",
      "DEBUG:root:/home/chenzhicong/tianchi2018/guangdong_round1_test_a_20180916/203.jpg predict as 10, probability is 0.99999917\n",
      "DEBUG:root:/home/chenzhicong/tianchi2018/guangdong_round1_test_a_20180916/204.jpg predict as 5, probability is 0.9999994\n",
      "DEBUG:root:/home/chenzhicong/tianchi2018/guangdong_round1_test_a_20180916/205.jpg predict as 5, probability is 0.9999993\n"
     ]
    },
    {
     "name": "stderr",
     "output_type": "stream",
     "text": [
      "DEBUG:root:/home/chenzhicong/tianchi2018/guangdong_round1_test_a_20180916/206.jpg predict as 11, probability is 0.5690166\n",
      "DEBUG:root:/home/chenzhicong/tianchi2018/guangdong_round1_test_a_20180916/207.jpg predict as 11, probability is 0.99406826\n",
      "DEBUG:root:/home/chenzhicong/tianchi2018/guangdong_round1_test_a_20180916/208.jpg predict as 8, probability is 0.99999976\n",
      "DEBUG:root:/home/chenzhicong/tianchi2018/guangdong_round1_test_a_20180916/209.jpg predict as 6, probability is 0.8970695\n",
      "DEBUG:root:/home/chenzhicong/tianchi2018/guangdong_round1_test_a_20180916/210.jpg predict as 2, probability is 0.8088261\n",
      "DEBUG:root:/home/chenzhicong/tianchi2018/guangdong_round1_test_a_20180916/211.jpg predict as 8, probability is 0.99999845\n",
      "DEBUG:root:/home/chenzhicong/tianchi2018/guangdong_round1_test_a_20180916/212.jpg predict as 0, probability is 0.9999994\n",
      "DEBUG:root:/home/chenzhicong/tianchi2018/guangdong_round1_test_a_20180916/213.jpg predict as 2, probability is 0.99473155\n",
      "DEBUG:root:/home/chenzhicong/tianchi2018/guangdong_round1_test_a_20180916/214.jpg predict as 5, probability is 0.9999982\n",
      "DEBUG:root:/home/chenzhicong/tianchi2018/guangdong_round1_test_a_20180916/215.jpg predict as 0, probability is 1.0\n",
      "DEBUG:root:/home/chenzhicong/tianchi2018/guangdong_round1_test_a_20180916/216.jpg predict as 2, probability is 0.83419645\n",
      "DEBUG:root:/home/chenzhicong/tianchi2018/guangdong_round1_test_a_20180916/217.jpg predict as 6, probability is 0.96290356\n",
      "DEBUG:root:/home/chenzhicong/tianchi2018/guangdong_round1_test_a_20180916/218.jpg predict as 0, probability is 0.99923825\n",
      "DEBUG:root:/home/chenzhicong/tianchi2018/guangdong_round1_test_a_20180916/219.jpg predict as 4, probability is 0.9854032\n",
      "DEBUG:root:/home/chenzhicong/tianchi2018/guangdong_round1_test_a_20180916/220.jpg predict as 0, probability is 0.9925316\n",
      "DEBUG:root:/home/chenzhicong/tianchi2018/guangdong_round1_test_a_20180916/221.jpg predict as 9, probability is 1.0\n",
      "DEBUG:root:/home/chenzhicong/tianchi2018/guangdong_round1_test_a_20180916/222.jpg predict as 11, probability is 0.987973\n",
      "DEBUG:root:/home/chenzhicong/tianchi2018/guangdong_round1_test_a_20180916/223.jpg predict as 6, probability is 0.98605055\n",
      "DEBUG:root:/home/chenzhicong/tianchi2018/guangdong_round1_test_a_20180916/224.jpg predict as 2, probability is 0.999476\n",
      "DEBUG:root:/home/chenzhicong/tianchi2018/guangdong_round1_test_a_20180916/225.jpg predict as 6, probability is 0.64221364\n",
      "DEBUG:root:/home/chenzhicong/tianchi2018/guangdong_round1_test_a_20180916/226.jpg predict as 10, probability is 0.9931878\n",
      "DEBUG:root:/home/chenzhicong/tianchi2018/guangdong_round1_test_a_20180916/227.jpg predict as 5, probability is 1.0\n",
      "DEBUG:root:/home/chenzhicong/tianchi2018/guangdong_round1_test_a_20180916/228.jpg predict as 2, probability is 0.9991387\n",
      "DEBUG:root:/home/chenzhicong/tianchi2018/guangdong_round1_test_a_20180916/229.jpg predict as 0, probability is 0.99938536\n",
      "DEBUG:root:/home/chenzhicong/tianchi2018/guangdong_round1_test_a_20180916/230.jpg predict as 2, probability is 0.8420286\n",
      "DEBUG:root:/home/chenzhicong/tianchi2018/guangdong_round1_test_a_20180916/231.jpg predict as 0, probability is 0.9944143\n",
      "DEBUG:root:/home/chenzhicong/tianchi2018/guangdong_round1_test_a_20180916/232.jpg predict as 5, probability is 0.99998224\n",
      "DEBUG:root:/home/chenzhicong/tianchi2018/guangdong_round1_test_a_20180916/233.jpg predict as 9, probability is 1.0\n",
      "DEBUG:root:/home/chenzhicong/tianchi2018/guangdong_round1_test_a_20180916/234.jpg predict as 11, probability is 0.99998534\n",
      "DEBUG:root:/home/chenzhicong/tianchi2018/guangdong_round1_test_a_20180916/235.jpg predict as 4, probability is 0.9999591\n",
      "DEBUG:root:/home/chenzhicong/tianchi2018/guangdong_round1_test_a_20180916/236.jpg predict as 0, probability is 0.9999937\n",
      "DEBUG:root:/home/chenzhicong/tianchi2018/guangdong_round1_test_a_20180916/237.jpg predict as 6, probability is 1.0\n",
      "DEBUG:root:/home/chenzhicong/tianchi2018/guangdong_round1_test_a_20180916/238.jpg predict as 10, probability is 0.99506336\n",
      "DEBUG:root:/home/chenzhicong/tianchi2018/guangdong_round1_test_a_20180916/239.jpg predict as 0, probability is 0.99999607\n",
      "DEBUG:root:/home/chenzhicong/tianchi2018/guangdong_round1_test_a_20180916/240.jpg predict as 0, probability is 0.99999905\n",
      "DEBUG:root:/home/chenzhicong/tianchi2018/guangdong_round1_test_a_20180916/241.jpg predict as 1, probability is 0.9999989\n",
      "DEBUG:root:/home/chenzhicong/tianchi2018/guangdong_round1_test_a_20180916/242.jpg predict as 2, probability is 0.997398\n",
      "DEBUG:root:/home/chenzhicong/tianchi2018/guangdong_round1_test_a_20180916/243.jpg predict as 0, probability is 0.9999639\n",
      "DEBUG:root:/home/chenzhicong/tianchi2018/guangdong_round1_test_a_20180916/244.jpg predict as 10, probability is 0.9999622\n",
      "DEBUG:root:/home/chenzhicong/tianchi2018/guangdong_round1_test_a_20180916/245.jpg predict as 0, probability is 0.9999945\n",
      "DEBUG:root:/home/chenzhicong/tianchi2018/guangdong_round1_test_a_20180916/246.jpg predict as 10, probability is 0.99998486\n",
      "DEBUG:root:/home/chenzhicong/tianchi2018/guangdong_round1_test_a_20180916/247.jpg predict as 0, probability is 0.99943703\n",
      "DEBUG:root:/home/chenzhicong/tianchi2018/guangdong_round1_test_a_20180916/248.jpg predict as 2, probability is 0.9882079\n",
      "DEBUG:root:/home/chenzhicong/tianchi2018/guangdong_round1_test_a_20180916/249.jpg predict as 4, probability is 0.99999666\n",
      "DEBUG:root:/home/chenzhicong/tianchi2018/guangdong_round1_test_a_20180916/250.jpg predict as 0, probability is 0.99160844\n",
      "DEBUG:root:/home/chenzhicong/tianchi2018/guangdong_round1_test_a_20180916/251.jpg predict as 5, probability is 0.9963898\n",
      "DEBUG:root:/home/chenzhicong/tianchi2018/guangdong_round1_test_a_20180916/252.jpg predict as 5, probability is 1.0\n",
      "DEBUG:root:/home/chenzhicong/tianchi2018/guangdong_round1_test_a_20180916/253.jpg predict as 2, probability is 0.9892336\n",
      "DEBUG:root:/home/chenzhicong/tianchi2018/guangdong_round1_test_a_20180916/254.jpg predict as 10, probability is 0.99999964\n",
      "DEBUG:root:/home/chenzhicong/tianchi2018/guangdong_round1_test_a_20180916/255.jpg predict as 7, probability is 1.0\n",
      "DEBUG:root:/home/chenzhicong/tianchi2018/guangdong_round1_test_a_20180916/256.jpg predict as 2, probability is 0.9959668\n",
      "DEBUG:root:/home/chenzhicong/tianchi2018/guangdong_round1_test_a_20180916/257.jpg predict as 0, probability is 0.999987\n",
      "DEBUG:root:/home/chenzhicong/tianchi2018/guangdong_round1_test_a_20180916/258.jpg predict as 7, probability is 1.0\n",
      "DEBUG:root:/home/chenzhicong/tianchi2018/guangdong_round1_test_a_20180916/259.jpg predict as 1, probability is 1.0\n",
      "DEBUG:root:/home/chenzhicong/tianchi2018/guangdong_round1_test_a_20180916/260.jpg predict as 6, probability is 0.91286963\n",
      "DEBUG:root:/home/chenzhicong/tianchi2018/guangdong_round1_test_a_20180916/261.jpg predict as 2, probability is 0.8758368\n",
      "DEBUG:root:/home/chenzhicong/tianchi2018/guangdong_round1_test_a_20180916/262.jpg predict as 4, probability is 0.9999974\n",
      "DEBUG:root:/home/chenzhicong/tianchi2018/guangdong_round1_test_a_20180916/263.jpg predict as 5, probability is 1.0\n",
      "DEBUG:root:/home/chenzhicong/tianchi2018/guangdong_round1_test_a_20180916/264.jpg predict as 2, probability is 0.9864347\n",
      "DEBUG:root:/home/chenzhicong/tianchi2018/guangdong_round1_test_a_20180916/265.jpg predict as 0, probability is 0.9999964\n",
      "DEBUG:root:/home/chenzhicong/tianchi2018/guangdong_round1_test_a_20180916/266.jpg predict as 0, probability is 0.999998\n",
      "DEBUG:root:/home/chenzhicong/tianchi2018/guangdong_round1_test_a_20180916/267.jpg predict as 0, probability is 0.96364814\n",
      "DEBUG:root:/home/chenzhicong/tianchi2018/guangdong_round1_test_a_20180916/268.jpg predict as 11, probability is 0.9480846\n",
      "DEBUG:root:/home/chenzhicong/tianchi2018/guangdong_round1_test_a_20180916/269.jpg predict as 5, probability is 0.9999901\n",
      "DEBUG:root:/home/chenzhicong/tianchi2018/guangdong_round1_test_a_20180916/270.jpg predict as 0, probability is 0.7793271\n",
      "DEBUG:root:/home/chenzhicong/tianchi2018/guangdong_round1_test_a_20180916/271.jpg predict as 2, probability is 0.63234127\n",
      "DEBUG:root:/home/chenzhicong/tianchi2018/guangdong_round1_test_a_20180916/272.jpg predict as 1, probability is 0.9999931\n",
      "DEBUG:root:/home/chenzhicong/tianchi2018/guangdong_round1_test_a_20180916/273.jpg predict as 5, probability is 0.99999964\n"
     ]
    },
    {
     "name": "stderr",
     "output_type": "stream",
     "text": [
      "DEBUG:root:/home/chenzhicong/tianchi2018/guangdong_round1_test_a_20180916/274.jpg predict as 0, probability is 0.99883336\n",
      "DEBUG:root:/home/chenzhicong/tianchi2018/guangdong_round1_test_a_20180916/275.jpg predict as 0, probability is 0.9999795\n",
      "DEBUG:root:/home/chenzhicong/tianchi2018/guangdong_round1_test_a_20180916/276.jpg predict as 10, probability is 0.9999988\n",
      "DEBUG:root:/home/chenzhicong/tianchi2018/guangdong_round1_test_a_20180916/277.jpg predict as 6, probability is 1.0\n",
      "DEBUG:root:/home/chenzhicong/tianchi2018/guangdong_round1_test_a_20180916/278.jpg predict as 5, probability is 1.0\n",
      "DEBUG:root:/home/chenzhicong/tianchi2018/guangdong_round1_test_a_20180916/279.jpg predict as 0, probability is 0.99352646\n",
      "DEBUG:root:/home/chenzhicong/tianchi2018/guangdong_round1_test_a_20180916/280.jpg predict as 0, probability is 0.9998591\n",
      "DEBUG:root:/home/chenzhicong/tianchi2018/guangdong_round1_test_a_20180916/281.jpg predict as 10, probability is 0.99999535\n",
      "DEBUG:root:/home/chenzhicong/tianchi2018/guangdong_round1_test_a_20180916/282.jpg predict as 0, probability is 1.0\n",
      "DEBUG:root:/home/chenzhicong/tianchi2018/guangdong_round1_test_a_20180916/283.jpg predict as 0, probability is 0.99999976\n",
      "DEBUG:root:/home/chenzhicong/tianchi2018/guangdong_round1_test_a_20180916/284.jpg predict as 10, probability is 0.9995536\n",
      "DEBUG:root:/home/chenzhicong/tianchi2018/guangdong_round1_test_a_20180916/285.jpg predict as 2, probability is 0.9591614\n",
      "DEBUG:root:/home/chenzhicong/tianchi2018/guangdong_round1_test_a_20180916/286.jpg predict as 0, probability is 0.99991775\n",
      "DEBUG:root:/home/chenzhicong/tianchi2018/guangdong_round1_test_a_20180916/287.jpg predict as 4, probability is 0.9956605\n",
      "DEBUG:root:/home/chenzhicong/tianchi2018/guangdong_round1_test_a_20180916/288.jpg predict as 0, probability is 0.9999939\n",
      "DEBUG:root:/home/chenzhicong/tianchi2018/guangdong_round1_test_a_20180916/289.jpg predict as 5, probability is 1.0\n",
      "DEBUG:root:/home/chenzhicong/tianchi2018/guangdong_round1_test_a_20180916/290.jpg predict as 11, probability is 0.9988751\n",
      "DEBUG:root:/home/chenzhicong/tianchi2018/guangdong_round1_test_a_20180916/291.jpg predict as 4, probability is 0.99706\n",
      "DEBUG:root:/home/chenzhicong/tianchi2018/guangdong_round1_test_a_20180916/292.jpg predict as 9, probability is 1.0\n",
      "DEBUG:root:/home/chenzhicong/tianchi2018/guangdong_round1_test_a_20180916/293.jpg predict as 3, probability is 0.9999604\n",
      "DEBUG:root:/home/chenzhicong/tianchi2018/guangdong_round1_test_a_20180916/294.jpg predict as 0, probability is 0.99998915\n",
      "DEBUG:root:/home/chenzhicong/tianchi2018/guangdong_round1_test_a_20180916/295.jpg predict as 2, probability is 0.54390293\n",
      "DEBUG:root:/home/chenzhicong/tianchi2018/guangdong_round1_test_a_20180916/296.jpg predict as 5, probability is 0.99981016\n",
      "DEBUG:root:/home/chenzhicong/tianchi2018/guangdong_round1_test_a_20180916/297.jpg predict as 5, probability is 0.99980587\n",
      "DEBUG:root:/home/chenzhicong/tianchi2018/guangdong_round1_test_a_20180916/298.jpg predict as 0, probability is 0.99999785\n",
      "DEBUG:root:/home/chenzhicong/tianchi2018/guangdong_round1_test_a_20180916/299.jpg predict as 11, probability is 0.9994598\n",
      "DEBUG:root:/home/chenzhicong/tianchi2018/guangdong_round1_test_a_20180916/300.jpg predict as 5, probability is 0.9931591\n",
      "DEBUG:root:/home/chenzhicong/tianchi2018/guangdong_round1_test_a_20180916/301.jpg predict as 0, probability is 0.9999989\n",
      "DEBUG:root:/home/chenzhicong/tianchi2018/guangdong_round1_test_a_20180916/302.jpg predict as 0, probability is 0.9999912\n",
      "DEBUG:root:/home/chenzhicong/tianchi2018/guangdong_round1_test_a_20180916/303.jpg predict as 0, probability is 0.99706453\n",
      "DEBUG:root:/home/chenzhicong/tianchi2018/guangdong_round1_test_a_20180916/304.jpg predict as 9, probability is 1.0\n",
      "DEBUG:root:/home/chenzhicong/tianchi2018/guangdong_round1_test_a_20180916/305.jpg predict as 4, probability is 0.99896264\n",
      "DEBUG:root:/home/chenzhicong/tianchi2018/guangdong_round1_test_a_20180916/306.jpg predict as 0, probability is 0.8994556\n",
      "DEBUG:root:/home/chenzhicong/tianchi2018/guangdong_round1_test_a_20180916/307.jpg predict as 6, probability is 1.0\n",
      "DEBUG:root:/home/chenzhicong/tianchi2018/guangdong_round1_test_a_20180916/308.jpg predict as 0, probability is 0.9531713\n",
      "DEBUG:root:/home/chenzhicong/tianchi2018/guangdong_round1_test_a_20180916/309.jpg predict as 2, probability is 0.97949535\n",
      "DEBUG:root:/home/chenzhicong/tianchi2018/guangdong_round1_test_a_20180916/310.jpg predict as 3, probability is 0.99999976\n",
      "DEBUG:root:/home/chenzhicong/tianchi2018/guangdong_round1_test_a_20180916/311.jpg predict as 0, probability is 0.9959609\n",
      "DEBUG:root:/home/chenzhicong/tianchi2018/guangdong_round1_test_a_20180916/312.jpg predict as 2, probability is 0.9999281\n",
      "DEBUG:root:/home/chenzhicong/tianchi2018/guangdong_round1_test_a_20180916/313.jpg predict as 2, probability is 0.9996532\n",
      "DEBUG:root:/home/chenzhicong/tianchi2018/guangdong_round1_test_a_20180916/314.jpg predict as 10, probability is 0.99920255\n",
      "DEBUG:root:/home/chenzhicong/tianchi2018/guangdong_round1_test_a_20180916/315.jpg predict as 5, probability is 0.99999917\n",
      "DEBUG:root:/home/chenzhicong/tianchi2018/guangdong_round1_test_a_20180916/316.jpg predict as 2, probability is 0.7080232\n",
      "DEBUG:root:/home/chenzhicong/tianchi2018/guangdong_round1_test_a_20180916/317.jpg predict as 2, probability is 0.9995009\n",
      "DEBUG:root:/home/chenzhicong/tianchi2018/guangdong_round1_test_a_20180916/318.jpg predict as 4, probability is 0.99999666\n",
      "DEBUG:root:/home/chenzhicong/tianchi2018/guangdong_round1_test_a_20180916/319.jpg predict as 0, probability is 0.999997\n",
      "DEBUG:root:/home/chenzhicong/tianchi2018/guangdong_round1_test_a_20180916/320.jpg predict as 5, probability is 0.9999957\n",
      "DEBUG:root:/home/chenzhicong/tianchi2018/guangdong_round1_test_a_20180916/321.jpg predict as 0, probability is 0.996232\n",
      "DEBUG:root:/home/chenzhicong/tianchi2018/guangdong_round1_test_a_20180916/322.jpg predict as 11, probability is 0.9529564\n",
      "DEBUG:root:/home/chenzhicong/tianchi2018/guangdong_round1_test_a_20180916/323.jpg predict as 4, probability is 0.99976176\n",
      "DEBUG:root:/home/chenzhicong/tianchi2018/guangdong_round1_test_a_20180916/324.jpg predict as 1, probability is 0.99999976\n",
      "DEBUG:root:/home/chenzhicong/tianchi2018/guangdong_round1_test_a_20180916/325.jpg predict as 9, probability is 1.0\n",
      "DEBUG:root:/home/chenzhicong/tianchi2018/guangdong_round1_test_a_20180916/326.jpg predict as 5, probability is 0.99999905\n",
      "DEBUG:root:/home/chenzhicong/tianchi2018/guangdong_round1_test_a_20180916/327.jpg predict as 0, probability is 0.99999917\n",
      "DEBUG:root:/home/chenzhicong/tianchi2018/guangdong_round1_test_a_20180916/328.jpg predict as 11, probability is 0.99835443\n",
      "DEBUG:root:/home/chenzhicong/tianchi2018/guangdong_round1_test_a_20180916/329.jpg predict as 0, probability is 0.9995863\n",
      "DEBUG:root:/home/chenzhicong/tianchi2018/guangdong_round1_test_a_20180916/330.jpg predict as 0, probability is 0.99990416\n",
      "DEBUG:root:/home/chenzhicong/tianchi2018/guangdong_round1_test_a_20180916/331.jpg predict as 10, probability is 0.99999547\n",
      "DEBUG:root:/home/chenzhicong/tianchi2018/guangdong_round1_test_a_20180916/332.jpg predict as 11, probability is 0.46700883\n",
      "DEBUG:root:/home/chenzhicong/tianchi2018/guangdong_round1_test_a_20180916/333.jpg predict as 5, probability is 1.0\n",
      "DEBUG:root:/home/chenzhicong/tianchi2018/guangdong_round1_test_a_20180916/334.jpg predict as 0, probability is 0.9999881\n",
      "DEBUG:root:/home/chenzhicong/tianchi2018/guangdong_round1_test_a_20180916/335.jpg predict as 0, probability is 0.9999975\n",
      "DEBUG:root:/home/chenzhicong/tianchi2018/guangdong_round1_test_a_20180916/336.jpg predict as 2, probability is 0.8514078\n",
      "DEBUG:root:/home/chenzhicong/tianchi2018/guangdong_round1_test_a_20180916/337.jpg predict as 10, probability is 0.99999905\n",
      "DEBUG:root:/home/chenzhicong/tianchi2018/guangdong_round1_test_a_20180916/338.jpg predict as 5, probability is 1.0\n",
      "DEBUG:root:/home/chenzhicong/tianchi2018/guangdong_round1_test_a_20180916/339.jpg predict as 5, probability is 0.9996753\n",
      "DEBUG:root:/home/chenzhicong/tianchi2018/guangdong_round1_test_a_20180916/340.jpg predict as 0, probability is 0.9999279\n",
      "DEBUG:root:/home/chenzhicong/tianchi2018/guangdong_round1_test_a_20180916/341.jpg predict as 0, probability is 0.9999124\n"
     ]
    },
    {
     "name": "stderr",
     "output_type": "stream",
     "text": [
      "DEBUG:root:/home/chenzhicong/tianchi2018/guangdong_round1_test_a_20180916/342.jpg predict as 8, probability is 0.8541606\n",
      "DEBUG:root:/home/chenzhicong/tianchi2018/guangdong_round1_test_a_20180916/343.jpg predict as 9, probability is 0.49138987\n",
      "DEBUG:root:/home/chenzhicong/tianchi2018/guangdong_round1_test_a_20180916/344.jpg predict as 5, probability is 1.0\n",
      "DEBUG:root:/home/chenzhicong/tianchi2018/guangdong_round1_test_a_20180916/345.jpg predict as 5, probability is 0.99988246\n",
      "DEBUG:root:/home/chenzhicong/tianchi2018/guangdong_round1_test_a_20180916/346.jpg predict as 0, probability is 0.9976095\n",
      "DEBUG:root:/home/chenzhicong/tianchi2018/guangdong_round1_test_a_20180916/347.jpg predict as 2, probability is 0.60476744\n",
      "DEBUG:root:/home/chenzhicong/tianchi2018/guangdong_round1_test_a_20180916/348.jpg predict as 6, probability is 0.63882446\n",
      "DEBUG:root:/home/chenzhicong/tianchi2018/guangdong_round1_test_a_20180916/349.jpg predict as 0, probability is 0.9413371\n",
      "DEBUG:root:/home/chenzhicong/tianchi2018/guangdong_round1_test_a_20180916/350.jpg predict as 0, probability is 0.9999999\n",
      "DEBUG:root:/home/chenzhicong/tianchi2018/guangdong_round1_test_a_20180916/351.jpg predict as 0, probability is 0.99999857\n",
      "DEBUG:root:/home/chenzhicong/tianchi2018/guangdong_round1_test_a_20180916/352.jpg predict as 2, probability is 0.6697756\n",
      "DEBUG:root:/home/chenzhicong/tianchi2018/guangdong_round1_test_a_20180916/353.jpg predict as 0, probability is 0.9945721\n",
      "DEBUG:root:/home/chenzhicong/tianchi2018/guangdong_round1_test_a_20180916/354.jpg predict as 3, probability is 0.99999917\n",
      "DEBUG:root:/home/chenzhicong/tianchi2018/guangdong_round1_test_a_20180916/355.jpg predict as 10, probability is 0.99999905\n",
      "DEBUG:root:/home/chenzhicong/tianchi2018/guangdong_round1_test_a_20180916/356.jpg predict as 0, probability is 0.99999917\n",
      "DEBUG:root:/home/chenzhicong/tianchi2018/guangdong_round1_test_a_20180916/357.jpg predict as 5, probability is 0.9999895\n",
      "DEBUG:root:/home/chenzhicong/tianchi2018/guangdong_round1_test_a_20180916/358.jpg predict as 5, probability is 1.0\n",
      "DEBUG:root:/home/chenzhicong/tianchi2018/guangdong_round1_test_a_20180916/359.jpg predict as 4, probability is 0.9999522\n",
      "DEBUG:root:/home/chenzhicong/tianchi2018/guangdong_round1_test_a_20180916/360.jpg predict as 10, probability is 0.55073637\n",
      "DEBUG:root:/home/chenzhicong/tianchi2018/guangdong_round1_test_a_20180916/361.jpg predict as 5, probability is 1.0\n",
      "DEBUG:root:/home/chenzhicong/tianchi2018/guangdong_round1_test_a_20180916/362.jpg predict as 9, probability is 1.0\n",
      "DEBUG:root:/home/chenzhicong/tianchi2018/guangdong_round1_test_a_20180916/363.jpg predict as 4, probability is 0.9997172\n",
      "DEBUG:root:/home/chenzhicong/tianchi2018/guangdong_round1_test_a_20180916/364.jpg predict as 2, probability is 0.54427713\n",
      "DEBUG:root:/home/chenzhicong/tianchi2018/guangdong_round1_test_a_20180916/365.jpg predict as 0, probability is 0.999987\n",
      "DEBUG:root:/home/chenzhicong/tianchi2018/guangdong_round1_test_a_20180916/366.jpg predict as 0, probability is 0.9963372\n",
      "DEBUG:root:/home/chenzhicong/tianchi2018/guangdong_round1_test_a_20180916/367.jpg predict as 9, probability is 0.9999999\n",
      "DEBUG:root:/home/chenzhicong/tianchi2018/guangdong_round1_test_a_20180916/368.jpg predict as 8, probability is 0.9999348\n",
      "DEBUG:root:/home/chenzhicong/tianchi2018/guangdong_round1_test_a_20180916/369.jpg predict as 2, probability is 0.85982645\n",
      "DEBUG:root:/home/chenzhicong/tianchi2018/guangdong_round1_test_a_20180916/370.jpg predict as 6, probability is 0.7099162\n",
      "DEBUG:root:/home/chenzhicong/tianchi2018/guangdong_round1_test_a_20180916/371.jpg predict as 6, probability is 0.8060984\n",
      "DEBUG:root:/home/chenzhicong/tianchi2018/guangdong_round1_test_a_20180916/372.jpg predict as 0, probability is 0.9998801\n",
      "DEBUG:root:/home/chenzhicong/tianchi2018/guangdong_round1_test_a_20180916/373.jpg predict as 6, probability is 0.70839787\n",
      "DEBUG:root:/home/chenzhicong/tianchi2018/guangdong_round1_test_a_20180916/374.jpg predict as 0, probability is 0.99999714\n",
      "DEBUG:root:/home/chenzhicong/tianchi2018/guangdong_round1_test_a_20180916/375.jpg predict as 2, probability is 0.9997371\n",
      "DEBUG:root:/home/chenzhicong/tianchi2018/guangdong_round1_test_a_20180916/376.jpg predict as 2, probability is 0.9243136\n",
      "DEBUG:root:/home/chenzhicong/tianchi2018/guangdong_round1_test_a_20180916/377.jpg predict as 6, probability is 0.93652886\n",
      "DEBUG:root:/home/chenzhicong/tianchi2018/guangdong_round1_test_a_20180916/378.jpg predict as 0, probability is 0.99999607\n",
      "DEBUG:root:/home/chenzhicong/tianchi2018/guangdong_round1_test_a_20180916/379.jpg predict as 6, probability is 0.5058179\n",
      "DEBUG:root:/home/chenzhicong/tianchi2018/guangdong_round1_test_a_20180916/380.jpg predict as 2, probability is 0.99997866\n",
      "DEBUG:root:/home/chenzhicong/tianchi2018/guangdong_round1_test_a_20180916/381.jpg predict as 7, probability is 1.0\n",
      "DEBUG:root:/home/chenzhicong/tianchi2018/guangdong_round1_test_a_20180916/382.jpg predict as 2, probability is 0.98026055\n",
      "DEBUG:root:/home/chenzhicong/tianchi2018/guangdong_round1_test_a_20180916/383.jpg predict as 10, probability is 0.95007354\n",
      "DEBUG:root:/home/chenzhicong/tianchi2018/guangdong_round1_test_a_20180916/384.jpg predict as 3, probability is 0.9994381\n",
      "DEBUG:root:/home/chenzhicong/tianchi2018/guangdong_round1_test_a_20180916/385.jpg predict as 10, probability is 0.9999503\n",
      "DEBUG:root:/home/chenzhicong/tianchi2018/guangdong_round1_test_a_20180916/386.jpg predict as 0, probability is 1.0\n",
      "DEBUG:root:/home/chenzhicong/tianchi2018/guangdong_round1_test_a_20180916/387.jpg predict as 10, probability is 0.9999783\n",
      "DEBUG:root:/home/chenzhicong/tianchi2018/guangdong_round1_test_a_20180916/388.jpg predict as 5, probability is 1.0\n",
      "DEBUG:root:/home/chenzhicong/tianchi2018/guangdong_round1_test_a_20180916/389.jpg predict as 5, probability is 0.99999654\n",
      "DEBUG:root:/home/chenzhicong/tianchi2018/guangdong_round1_test_a_20180916/390.jpg predict as 5, probability is 0.99767655\n",
      "DEBUG:root:/home/chenzhicong/tianchi2018/guangdong_round1_test_a_20180916/391.jpg predict as 0, probability is 0.9997993\n",
      "DEBUG:root:/home/chenzhicong/tianchi2018/guangdong_round1_test_a_20180916/392.jpg predict as 2, probability is 1.0\n",
      "DEBUG:root:/home/chenzhicong/tianchi2018/guangdong_round1_test_a_20180916/393.jpg predict as 5, probability is 0.9984884\n",
      "DEBUG:root:/home/chenzhicong/tianchi2018/guangdong_round1_test_a_20180916/394.jpg predict as 0, probability is 1.0\n",
      "DEBUG:root:/home/chenzhicong/tianchi2018/guangdong_round1_test_a_20180916/395.jpg predict as 2, probability is 0.98930466\n",
      "DEBUG:root:/home/chenzhicong/tianchi2018/guangdong_round1_test_a_20180916/396.jpg predict as 10, probability is 0.86194354\n",
      "DEBUG:root:/home/chenzhicong/tianchi2018/guangdong_round1_test_a_20180916/397.jpg predict as 0, probability is 0.9999869\n",
      "DEBUG:root:/home/chenzhicong/tianchi2018/guangdong_round1_test_a_20180916/398.jpg predict as 8, probability is 0.7979876\n",
      "DEBUG:root:/home/chenzhicong/tianchi2018/guangdong_round1_test_a_20180916/399.jpg predict as 5, probability is 1.0\n",
      "DEBUG:root:/home/chenzhicong/tianchi2018/guangdong_round1_test_a_20180916/400.jpg predict as 0, probability is 0.9999993\n",
      "DEBUG:root:/home/chenzhicong/tianchi2018/guangdong_round1_test_a_20180916/401.jpg predict as 0, probability is 0.9955907\n",
      "DEBUG:root:/home/chenzhicong/tianchi2018/guangdong_round1_test_a_20180916/402.jpg predict as 2, probability is 0.97868174\n",
      "DEBUG:root:/home/chenzhicong/tianchi2018/guangdong_round1_test_a_20180916/403.jpg predict as 10, probability is 0.92758405\n",
      "DEBUG:root:/home/chenzhicong/tianchi2018/guangdong_round1_test_a_20180916/404.jpg predict as 0, probability is 1.0\n",
      "DEBUG:root:/home/chenzhicong/tianchi2018/guangdong_round1_test_a_20180916/405.jpg predict as 0, probability is 0.9999988\n",
      "DEBUG:root:/home/chenzhicong/tianchi2018/guangdong_round1_test_a_20180916/406.jpg predict as 11, probability is 0.47002828\n",
      "DEBUG:root:/home/chenzhicong/tianchi2018/guangdong_round1_test_a_20180916/407.jpg predict as 5, probability is 1.0\n",
      "DEBUG:root:/home/chenzhicong/tianchi2018/guangdong_round1_test_a_20180916/408.jpg predict as 6, probability is 1.0\n",
      "DEBUG:root:/home/chenzhicong/tianchi2018/guangdong_round1_test_a_20180916/409.jpg predict as 1, probability is 0.99999917\n",
      "DEBUG:root:/home/chenzhicong/tianchi2018/guangdong_round1_test_a_20180916/410.jpg predict as 6, probability is 1.0\n"
     ]
    },
    {
     "name": "stderr",
     "output_type": "stream",
     "text": [
      "DEBUG:root:/home/chenzhicong/tianchi2018/guangdong_round1_test_a_20180916/411.jpg predict as 5, probability is 0.9999982\n",
      "DEBUG:root:/home/chenzhicong/tianchi2018/guangdong_round1_test_a_20180916/412.jpg predict as 0, probability is 0.98708355\n",
      "DEBUG:root:/home/chenzhicong/tianchi2018/guangdong_round1_test_a_20180916/413.jpg predict as 5, probability is 0.99999535\n",
      "DEBUG:root:/home/chenzhicong/tianchi2018/guangdong_round1_test_a_20180916/414.jpg predict as 5, probability is 0.99961567\n",
      "DEBUG:root:/home/chenzhicong/tianchi2018/guangdong_round1_test_a_20180916/415.jpg predict as 2, probability is 0.86139596\n",
      "DEBUG:root:/home/chenzhicong/tianchi2018/guangdong_round1_test_a_20180916/416.jpg predict as 0, probability is 0.99999785\n",
      "DEBUG:root:/home/chenzhicong/tianchi2018/guangdong_round1_test_a_20180916/417.jpg predict as 10, probability is 0.7674071\n",
      "DEBUG:root:/home/chenzhicong/tianchi2018/guangdong_round1_test_a_20180916/418.jpg predict as 0, probability is 0.99998534\n",
      "DEBUG:root:/home/chenzhicong/tianchi2018/guangdong_round1_test_a_20180916/419.jpg predict as 6, probability is 1.0\n",
      "DEBUG:root:/home/chenzhicong/tianchi2018/guangdong_round1_test_a_20180916/420.jpg predict as 3, probability is 0.99999094\n",
      "DEBUG:root:/home/chenzhicong/tianchi2018/guangdong_round1_test_a_20180916/421.jpg predict as 4, probability is 0.666812\n",
      "DEBUG:root:/home/chenzhicong/tianchi2018/guangdong_round1_test_a_20180916/422.jpg predict as 11, probability is 0.9994722\n",
      "DEBUG:root:/home/chenzhicong/tianchi2018/guangdong_round1_test_a_20180916/423.jpg predict as 11, probability is 0.9481708\n",
      "DEBUG:root:/home/chenzhicong/tianchi2018/guangdong_round1_test_a_20180916/424.jpg predict as 10, probability is 0.9999988\n",
      "DEBUG:root:/home/chenzhicong/tianchi2018/guangdong_round1_test_a_20180916/425.jpg predict as 4, probability is 0.97690886\n",
      "DEBUG:root:/home/chenzhicong/tianchi2018/guangdong_round1_test_a_20180916/426.jpg predict as 0, probability is 0.9999552\n",
      "DEBUG:root:/home/chenzhicong/tianchi2018/guangdong_round1_test_a_20180916/427.jpg predict as 10, probability is 0.99999833\n",
      "DEBUG:root:/home/chenzhicong/tianchi2018/guangdong_round1_test_a_20180916/428.jpg predict as 0, probability is 0.9999999\n",
      "DEBUG:root:/home/chenzhicong/tianchi2018/guangdong_round1_test_a_20180916/429.jpg predict as 3, probability is 0.9999908\n",
      "DEBUG:root:/home/chenzhicong/tianchi2018/guangdong_round1_test_a_20180916/430.jpg predict as 0, probability is 1.0\n",
      "DEBUG:root:/home/chenzhicong/tianchi2018/guangdong_round1_test_a_20180916/431.jpg predict as 5, probability is 1.0\n",
      "DEBUG:root:/home/chenzhicong/tianchi2018/guangdong_round1_test_a_20180916/432.jpg predict as 5, probability is 0.9999913\n",
      "DEBUG:root:/home/chenzhicong/tianchi2018/guangdong_round1_test_a_20180916/433.jpg predict as 6, probability is 1.0\n",
      "DEBUG:root:/home/chenzhicong/tianchi2018/guangdong_round1_test_a_20180916/434.jpg predict as 7, probability is 0.9999999\n",
      "DEBUG:root:/home/chenzhicong/tianchi2018/guangdong_round1_test_a_20180916/435.jpg predict as 8, probability is 0.98754996\n",
      "DEBUG:root:/home/chenzhicong/tianchi2018/guangdong_round1_test_a_20180916/436.jpg predict as 4, probability is 0.99362624\n",
      "DEBUG:root:/home/chenzhicong/tianchi2018/guangdong_round1_test_a_20180916/437.jpg predict as 4, probability is 0.9973967\n",
      "DEBUG:root:/home/chenzhicong/tianchi2018/guangdong_round1_test_a_20180916/438.jpg predict as 5, probability is 0.9995084\n",
      "DEBUG:root:/home/chenzhicong/tianchi2018/guangdong_round1_test_a_20180916/439.jpg predict as 4, probability is 0.96376103\n",
      "DEBUG:root:Done\n"
     ]
    }
   ],
   "source": [
    "run predict.py -m goodlenet2.model -d ~/tianchi2018/guangdong_round1_test_a_20180916"
   ]
  },
  {
   "cell_type": "code",
   "execution_count": 1,
   "metadata": {},
   "outputs": [
    {
     "name": "stderr",
     "output_type": "stream",
     "text": [
      "Using TensorFlow backend.\n"
     ]
    }
   ],
   "source": [
    "import keras\n"
   ]
  },
  {
   "cell_type": "code",
   "execution_count": 2,
   "metadata": {
    "scrolled": true
   },
   "outputs": [],
   "source": [
    "from net.googlenet import GoogleNet\n",
    "\n",
    "model = GoogleNet.build(img_rows=256, img_cols=256, color_type=3, num_classes=10)\n"
   ]
  },
  {
   "cell_type": "code",
   "execution_count": 9,
   "metadata": {},
   "outputs": [
    {
     "name": "stdout",
     "output_type": "stream",
     "text": [
      "18.0\n"
     ]
    }
   ],
   "source": [
    "needI = 2000 * 0.2 // 23 + 1\n",
    "#needI = int(needI)\n",
    "print(needI)"
   ]
  },
  {
   "cell_type": "code",
   "execution_count": 11,
   "metadata": {},
   "outputs": [
    {
     "name": "stdout",
     "output_type": "stream",
     "text": [
      "dict_keys([1])\n",
      "2\n"
     ]
    }
   ],
   "source": [
    "a = {1:2}\n",
    "print(a.keys())\n",
    "b = a.keys()\n",
    "for i in a.keys():\n",
    "    print(a[i])\n"
   ]
  },
  {
   "cell_type": "code",
   "execution_count": 2,
   "metadata": {},
   "outputs": [
    {
     "name": "stdout",
     "output_type": "stream",
     "text": [
      "0\n",
      "1\n",
      "2\n"
     ]
    }
   ],
   "source": [
    "for i in range(3):\n",
    "    print(i)"
   ]
  },
  {
   "cell_type": "code",
   "execution_count": 6,
   "metadata": {},
   "outputs": [
    {
     "name": "stdout",
     "output_type": "stream",
     "text": [
      "{1: 0}\n",
      "0\n",
      "0\n"
     ]
    }
   ],
   "source": [
    "a = {}\n",
    "a[1] = a.get(1,0)\n",
    "print(a)\n",
    "for i in a.keys():\n",
    "    if i == 1:\n",
    "        print(a[i])\n",
    "print(a[1])"
   ]
  },
  {
   "cell_type": "code",
   "execution_count": 2,
   "metadata": {},
   "outputs": [
    {
     "name": "stderr",
     "output_type": "stream",
     "text": [
      "DEBUG:root:image of every classification need: {0: 1, 1: 8, 2: 3, 3: 7, 4: 4, 5: 2, 6: 4, 7: 6, 8: 5, 9: 9, 10: 2, 11: 3}\n"
     ]
    },
    {
     "name": "stdout",
     "output_type": "stream",
     "text": [
      "[INFO] loading data...\n"
     ]
    },
    {
     "name": "stderr",
     "output_type": "stream",
     "text": [
      "DEBUG:root:The number of new data of label {0: 1018, 1: 300, 2: 300, 3: 300, 4: 300, 5: 300, 6: 300, 7: 300, 8: 300, 9: 300, 10: 300, 11: 300}\n",
      "DEBUG:root:Done, total images number: 4318\n"
     ]
    }
   ],
   "source": [
    "run adjust_data.py --dataPath /home/chenzhicong/tianchi2018/data_all1 --number 300 --outPath /home/chenzhicong/tianchi2018/data_new"
   ]
  },
  {
   "cell_type": "code",
   "execution_count": null,
   "metadata": {},
   "outputs": [],
   "source": []
  }
 ],
 "metadata": {
  "kernelspec": {
   "display_name": "Python (tensorflow-gpu-1.3.0)",
   "language": "python",
   "name": "tianchi2018"
  },
  "language_info": {
   "codemirror_mode": {
    "name": "ipython",
    "version": 3
   },
   "file_extension": ".py",
   "mimetype": "text/x-python",
   "name": "python",
   "nbconvert_exporter": "python",
   "pygments_lexer": "ipython3",
   "version": "3.5.6"
  }
 },
 "nbformat": 4,
 "nbformat_minor": 2
}
